{
 "cells": [
  {
   "cell_type": "code",
   "execution_count": 1,
   "metadata": {},
   "outputs": [],
   "source": [
    "import SimpleITK as sitk\n",
    "import numpy as np\n",
    "import matplotlib.pyplot as plt"
   ]
  },
  {
   "cell_type": "code",
   "execution_count": 24,
   "metadata": {},
   "outputs": [],
   "source": [
    "tmp1 = sitk.ReadImage('/home/mzukovec/Documents/Faks/Semester 3/AMS/Data/nnUNet/Task105_KD1/labelsTr/KD1_004.nii.gz')\n",
    "tmp2 = sitk.ReadImage('/home/mzukovec/Documents/Faks/Semester 3/AMS/Data/nnUNet/Task105_KD1/labelsTr/KD1_005.nii.gz')\n",
    "tmp3 = sitk.ReadImage('/home/mzukovec/Documents/Faks/Semester 3/AMS/Data/nnUNet/Task105_KD1/labelsTr/KD1_006.nii.gz')"
   ]
  },
  {
   "cell_type": "code",
   "execution_count": 25,
   "metadata": {},
   "outputs": [
    {
     "data": {
      "text/plain": [
       "<matplotlib.image.AxesImage at 0x7f0960a22160>"
      ]
     },
     "execution_count": 25,
     "metadata": {},
     "output_type": "execute_result"
    },
    {
     "data": {
      "image/png": "[encoded data removed]",
      "text/plain": [
       "<Figure size 432x288 with 3 Axes>"
      ]
     },
     "metadata": {
      "needs_background": "light"
     },
     "output_type": "display_data"
    }
   ],
   "source": [
    "plt.figure()\n",
    "plt.subplot(1,3,1)\n",
    "plt.imshow(sitk.GetArrayFromImage(tmp1).squeeze(), cmap='gray')\n",
    "plt.subplot(1,3,2)\n",
    "plt.imshow(sitk.GetArrayFromImage(tmp2).squeeze(), cmap='gray')\n",
    "plt.subplot(1,3,3)\n",
    "plt.imshow(sitk.GetArrayFromImage(tmp3).squeeze(), cmap='gray')"
   ]
  },
  {
   "cell_type": "code",
   "execution_count": 27,
   "metadata": {},
   "outputs": [
    {
     "data": {
      "text/plain": [
       "<matplotlib.image.AxesImage at 0x7f0960b66640>"
      ]
     },
     "execution_count": 27,
     "metadata": {},
     "output_type": "execute_result"
    },
    {
     "data": {
      "image/png": "[encoded data removed]",
      "text/plain": [
       "<Figure size 432x288 with 3 Axes>"
      ]
     },
     "metadata": {
      "needs_background": "light"
     },
     "output_type": "display_data"
    }
   ],
   "source": [
    "plt.figure()\n",
    "plt.subplot(1,3,1)\n",
    "plt.imshow(sitk.GetArrayFromImage(tmp1).squeeze(), cmap='gray')\n",
    "plt.subplot(1,3,2)\n",
    "plt.imshow(sitk.GetArrayFromImage(tmp2).squeeze() - sitk.GetArrayFromImage(tmp1).squeeze(), cmap='gray')\n",
    "plt.subplot(1,3,3)\n",
    "plt.imshow(sitk.GetArrayFromImage(tmp3).squeeze() - 2*sitk.GetArrayFromImage(tmp3).squeeze(), cmap='gray')"
   ]
  },
  {
   "cell_type": "code",
   "execution_count": null,
   "metadata": {},
   "outputs": [],
   "source": []
  }
 ],
 "metadata": {
  "kernelspec": {
   "display_name": "Python 3",
   "language": "python",
   "name": "python3"
  },
  "language_info": {
   "codemirror_mode": {
    "name": "ipython",
    "version": 3
   },
   "file_extension": ".py",
   "mimetype": "text/x-python",
   "name": "python",
   "nbconvert_exporter": "python",
   "pygments_lexer": "ipython3",
   "version": "3.8.5"
  }
 },
 "nbformat": 4,
 "nbformat_minor": 4
}
