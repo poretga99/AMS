{
 "cells": [
  {
   "cell_type": "code",
   "execution_count": 1,
   "metadata": {},
   "outputs": [
    {
     "name": "stderr",
     "output_type": "stream",
     "text": [
      "Using TensorFlow backend.\n"
     ]
    }
   ],
   "source": [
    "import sys\n",
    "import os\n",
    "import numpy as np\n",
    "import SimpleITK as sitk\n",
    "import matplotlib.pyplot as plt\n",
    "from amslib import resample_image"
   ]
  },
  {
   "cell_type": "code",
   "execution_count": 185,
   "metadata": {},
   "outputs": [],
   "source": [
    "def getListOfMasks(SOURCE):\n",
    "    return os.listdir(SOURCE)\n",
    "\n",
    "def appendPath(PATH, ORGAN, TYPE):\n",
    "    return PATH + \"/\" + ORGAN + \"/\" + TYPE\n",
    "\n",
    "def parseData(IZZIVI, SRC_PATH, TYPE):\n",
    "    CASES = [getListOfMasks(appendPath(SRC_PATH, x, TYPE)) for x in izzivi]\n",
    "    NO_OF_SEGS = {'brain-growth' : 1,\n",
    "                 'brain-tumor' : 3,\n",
    "                 'kidney' : 1,\n",
    "                 'prostate' : 2}\n",
    "    d = {}\n",
    "    for IZZIV in IZZIVI:\n",
    "        d[IZZIV] = {}\n",
    "    for i in range(len(CASES)):\n",
    "        IZZIV = IZZIVI[i]\n",
    "        d[IZZIV][TYPE] = {}\n",
    "        for CASE in CASES[i]:\n",
    "            d[IZZIV][TYPE][CASE] = {}\n",
    "            tmp = os.listdir(SRC_PATH + '/' + IZZIV + '/' + TYPE + '/' + CASE + '/')\n",
    "            d[IZZIV][TYPE][CASE]['PATHS'] = tmp\n",
    "            d[IZZIV][TYPE][CASE]['IMAGE'] = [x for x in tmp if 'image' in x]\n",
    "            d[IZZIV][TYPE][CASE]['TASKS'] = {}\n",
    "            for j in range(NO_OF_SEGS[IZZIV]):\n",
    "                check_name = 'task0' + str(j+1)\n",
    "                NAME = 'TASK0' + str(j+1)\n",
    "                d[IZZIV][TYPE][CASE]['TASKS'][NAME] = [x for x in tmp if check_name in x]\n",
    "    return d\n",
    "\n",
    "def saveAverageMasks(data, SOURCE_DIR, TYPE):\n",
    "    for izziv in data.keys():\n",
    "        for case in data[izziv][TYPE].keys():\n",
    "            data[izziv][TYPE][case]['MASKS'] = {}\n",
    "            for task in data[izziv][TYPE][case]['TASKS'].keys():\n",
    "                img = sitk.ReadImage('/'.join([SOURCE_DIR, izziv, TYPE, case, 'task01_seg01.nii.gz']))*0\n",
    "                for mask in data[izziv][TYPE][case]['TASKS'][task]:\n",
    "                    img += sitk.ReadImage('/'.join([SOURCE_DIR, izziv, TYPE, case, mask]))\n",
    "                img = sitk.Cast(img, sitk.sitkFloat32)\n",
    "                img /= len(data[izziv][TYPE][case]['TASKS'][task])\n",
    "                sitk.WriteImage(img, '/'.join([SOURCE_DIR, izziv, TYPE, case, case + '_mask.nii.gz']))\n",
    "                data[izziv][TYPE][case]['MASKS'][task] = case + '_mask.nii.gz'\n",
    "    return data\n",
    "\n",
    "def getPath(*args, **kwargs):\n",
    "    return '/'.join(args)\n",
    "\n",
    "def parseIdxToString(idx, length=3):\n",
    "    tmpArr = []\n",
    "    tmpArr = ['0' for x in range(length - 1 - int(np.log10(idx)))]\n",
    "    tmpArr.append(str(idx))\n",
    "    return ''.join(tmpArr)\n",
    "\n",
    "def makeNNUnetStructure2(data, SOURCE, DEST, TYPE):\n",
    "    mapNames = {'brain-growth' : 'BRGR', 'brain-tumor' : 'BRTU','kidney': 'KD','prostate': 'PR'}\n",
    "    taskIdx = 100 # Custom datasets starting from 100\n",
    "    for IZZIV in data.keys():\n",
    "        noOfTasks = 1\n",
    "        for TASK in data[IZZIV][TYPE]['case01']['TASKS']: # Number of different organs\n",
    "            imageIdx = 1\n",
    "            for CASE in data[IZZIV][TYPE].keys():\n",
    "                imageIdx = 1\n",
    "                srcImage = sitk.ReadImage(\n",
    "                    getPath(SOURCE, IZZIV, TYPE, CASE, 'image.nii.gz'))\n",
    "                for SEGMENTATION in data[IZZIV][TYPE][CASE]['TASKS'][TASK]:\n",
    "                    sitk.WriteImage(srcImage,\n",
    "                                   getPath(DEST, 'Task' + str(taskIdx) + '_' + mapNames[IZZIV] + str(noOfTasks),\n",
    "                                           'imagesTr', mapNames[IZZIV] + str(noOfTasks) + '_' + parseIdxToString(imageIdx) + '_0000.nii.gz'))\n",
    "                    imageIdx += 1\n",
    "        noOfTasks += 1\n",
    "        taskIdx += 1\n",
    "                \n",
    "def makeNNUnetStructure(data, SOURCE, DEST, TYPE):\n",
    "    mapNames = {'brain-growth' : 'BRGR', 'brain-tumor' : 'BRTU','kidney': 'KD','prostate': 'PR'}\n",
    "    startIdx = 100 # Custom datasets starting from 100\n",
    "    for IZZIV in data.keys():\n",
    "        for CASE in data[IZZIV][TYPE].keys():\n",
    "            srcImage = sitk.ReadImage(getPath(SOURCE, IZZIV, TYPE, CASE, 'image.nii.gz'))\n",
    "            noOfTasks = 1 # Number of tasks per case\n",
    "            for TASK in data[IZZIV][TYPE][CASE]['TASKS'].keys():\n",
    "                idx = 1 # Local number of segmentations per task\n",
    "                for SEGMENTATION in data[IZZIV][TYPE][CASE]['TASKS'][TASK]:\n",
    "                    sitk.WriteImage(srcImage, getPath(DEST, 'Task' + str(startIdx) + '_' + mapNames[IZZIV] + str(noOfTasks), 'imagesTr', mapNames[IZZIV] + str(noOfTasks) + '_' + parseIdxToString(idx) + '_0000.nii.gz'))\n",
    "                    idx += 1\n",
    "                noOfTasks += 1\n",
    "                startIdx +=1 "
   ]
  },
  {
   "cell_type": "code",
   "execution_count": 138,
   "metadata": {},
   "outputs": [],
   "source": [
    "data_paths = {'brain-growth':{},\n",
    "             'brain-tumor':{},\n",
    "             'kidney': {},\n",
    "             'prostate': {}}\n",
    "\n",
    "izzivi = ['brain-growth', 'brain-tumor', 'kidney', 'prostate']\n",
    "data = parseData(izzivi, '../data/training_data_v2', 'Training')\n",
    "data = saveAverageMasks(data, '../data/training_data_v2', 'Training')"
   ]
  },
  {
   "cell_type": "code",
   "execution_count": 186,
   "metadata": {},
   "outputs": [],
   "source": [
    "makeNNUnetStructure2(data, '../data/training_data_v2', '../data/nnUNet', 'Training')"
   ]
  },
  {
   "cell_type": "code",
   "execution_count": 179,
   "metadata": {},
   "outputs": [
    {
     "data": {
      "text/plain": [
       "{'PATHS': ['case01_mask.nii.gz',\n",
       "  'image.nii.gz',\n",
       "  'task01_seg01.nii.gz',\n",
       "  'task01_seg02.nii.gz',\n",
       "  'task01_seg03.nii.gz',\n",
       "  'task02_seg01.nii.gz',\n",
       "  'task02_seg02.nii.gz',\n",
       "  'task02_seg03.nii.gz',\n",
       "  'task03_seg01.nii.gz',\n",
       "  'task03_seg02.nii.gz',\n",
       "  'task03_seg03.nii.gz'],\n",
       " 'IMAGE': ['image.nii.gz'],\n",
       " 'TASKS': {'TASK01': ['task01_seg01.nii.gz',\n",
       "   'task01_seg02.nii.gz',\n",
       "   'task01_seg03.nii.gz'],\n",
       "  'TASK02': ['task02_seg01.nii.gz',\n",
       "   'task02_seg02.nii.gz',\n",
       "   'task02_seg03.nii.gz'],\n",
       "  'TASK03': ['task03_seg01.nii.gz',\n",
       "   'task03_seg02.nii.gz',\n",
       "   'task03_seg03.nii.gz']},\n",
       " 'MASKS': {'TASK01': 'case01_mask.nii.gz',\n",
       "  'TASK02': 'case01_mask.nii.gz',\n",
       "  'TASK03': 'case01_mask.nii.gz'}}"
      ]
     },
     "execution_count": 179,
     "metadata": {},
     "output_type": "execute_result"
    }
   ],
   "source": [
    "data['brain-tumor']['Training']['case01']"
   ]
  },
  {
   "cell_type": "code",
   "execution_count": null,
   "metadata": {},
   "outputs": [],
   "source": []
  },
  {
   "cell_type": "code",
   "execution_count": null,
   "metadata": {},
   "outputs": [],
   "source": []
  },
  {
   "cell_type": "code",
   "execution_count": null,
   "metadata": {},
   "outputs": [],
   "source": []
  },
  {
   "cell_type": "code",
   "execution_count": null,
   "metadata": {},
   "outputs": [],
   "source": []
  },
  {
   "cell_type": "code",
   "execution_count": null,
   "metadata": {},
   "outputs": [],
   "source": []
  }
 ],
 "metadata": {
  "kernelspec": {
   "display_name": "Python 3",
   "language": "python",
   "name": "python3"
  },
  "language_info": {
   "codemirror_mode": {
    "name": "ipython",
    "version": 3
   },
   "file_extension": ".py",
   "mimetype": "text/x-python",
   "name": "python",
   "nbconvert_exporter": "python",
   "pygments_lexer": "ipython3",
   "version": "3.8.5"
  }
 },
 "nbformat": 4,
 "nbformat_minor": 2
}
